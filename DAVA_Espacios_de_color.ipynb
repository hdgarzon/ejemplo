{
  "cells": [
    {
      "cell_type": "markdown",
      "metadata": {
        "id": "view-in-github",
        "colab_type": "text"
      },
      "source": [
        "<a href=\"https://colab.research.google.com/github/hdgarzon/ejemplo/blob/master/DAVA_Espacios_de_color.ipynb\" target=\"_parent\"><img src=\"https://colab.research.google.com/assets/colab-badge.svg\" alt=\"Open In Colab\"/></a>"
      ]
    },
    {
      "cell_type": "markdown",
      "metadata": {
        "id": "Rk2Qw0cSTzxH"
      },
      "source": [
        "# Desarrollo de Aplicaciones con Visión Artificial: Espacios de color\n",
        "\n",
        "En este notebook aprenderás a segmentar objetos utilizando el espacio de color HSV y la librería OpenCV."
      ]
    },
    {
      "cell_type": "markdown",
      "metadata": {
        "id": "aU7L-oNMkeAq"
      },
      "source": [
        "## OpenCV\n",
        "\n",
        "* Librería open source\n",
        "* Proporciona las herramientas necesarias para resolver problemas de visión artificial mediante una combinación de funciones de procesamiento de imágenes de bajo nivel y algoritmos de alto nivel\n",
        "* Detección de rostros, detección de peatones, entre otros"
      ]
    },
    {
      "cell_type": "code",
      "execution_count": null,
      "metadata": {
        "id": "eCAvKfw5nrTv"
      },
      "outputs": [],
      "source": [
        "import cv2\n",
        "cv2.__version__"
      ]
    },
    {
      "cell_type": "markdown",
      "metadata": {
        "id": "r5FhQWrFRNfK"
      },
      "source": [
        "Para la mayor parte del trabajo que realizaremos sobre las imágenes, usaremos la librería OpenCV, además usaremos Numpy y Plotly para mostrar las imágenes."
      ]
    },
    {
      "cell_type": "code",
      "execution_count": null,
      "metadata": {
        "id": "Ls91hqUoRA5J"
      },
      "outputs": [],
      "source": [
        "import numpy as np\n",
        "import plotly.express as px"
      ]
    },
    {
      "cell_type": "markdown",
      "metadata": {
        "id": "3NR8XomhP6GB"
      },
      "source": [
        "## Lectura de imágenes y espacios de color \n",
        "\n",
        "Ejecutamos el siguiente comando para descargar una imágen.\n"
      ]
    },
    {
      "cell_type": "code",
      "execution_count": null,
      "metadata": {
        "id": "mdiwXRveNOlb"
      },
      "outputs": [],
      "source": [
        "!wget https://github.com/diplomado-ia-pucp/dava/raw/main/centro1.jpg"
      ]
    },
    {
      "cell_type": "markdown",
      "metadata": {
        "id": "K9lctgVFSF4F"
      },
      "source": [
        "Leemos una imagen y la mostramos."
      ]
    },
    {
      "cell_type": "code",
      "execution_count": null,
      "metadata": {
        "id": "kdwTI5PqRxnm"
      },
      "outputs": [],
      "source": [
        "img = cv2.imread('centro1.jpg')\n",
        "print('Dimensiones: ', img.shape)\n",
        "\n",
        "fig = px.imshow(img)\n",
        "fig.show()"
      ]
    },
    {
      "cell_type": "markdown",
      "metadata": {
        "id": "mnkuddgVTSFo"
      },
      "source": [
        "La imagen no se muestra como esperamos. Esto se debe a que *OpenCV* lee las imágenes a color en el orden BGR, es decir primero el canal azul, luego el canal  verde y finalmente el canal rojo. Cuando enviamos esta imagen a dibujar, *Plotly* cree que la imagen está en formato RGB. Para solucionar esto podemos hacer un cambio en los canales de color."
      ]
    },
    {
      "cell_type": "code",
      "execution_count": null,
      "metadata": {
        "id": "Jzlir7pOSviS"
      },
      "outputs": [],
      "source": [
        "#img = img[:,:,[2, 1, 0]] # Forma 1\n",
        "#img = img[:,:,::-1] # Forma 2\n",
        "#img = cv2.cvtColor(img, cv2.COLOR_BGR2RGB)\n",
        "\n",
        "fig = px.imshow(img)\n",
        "fig.show()\n",
        "\n",
        "print('Color en el pixel 50,50:', img[50,50,:])"
      ]
    },
    {
      "cell_type": "markdown",
      "metadata": {
        "id": "_ji-yTanU_gv"
      },
      "source": [
        "Por defecto las imágenes están en el espacio de color RGB. Sin embargo, al momento de procesarlas, otros espacios de color pueden ser más útiles. Por ejemplo, muchos de las técnicas clásicas de visión computacional trabajan sobre imágenes en escalas de grises."
      ]
    },
    {
      "cell_type": "code",
      "execution_count": null,
      "metadata": {
        "id": "2XMc5kliUZjY"
      },
      "outputs": [],
      "source": [
        "# Convertir imagen a escala de grises\n",
        "#imgGray = cv2.cvtColor(img, cv2.COLOR_RGB2GRAY)\n",
        "\n",
        "# Alternativamente, uno puede leer la imagen como escala de grises así:\n",
        "imgGray = cv2.imread('centro1.jpg',0)\n",
        "\n",
        "fig = px.imshow(imgGray, color_continuous_scale='gray')\n",
        "fig.show()"
      ]
    },
    {
      "cell_type": "markdown",
      "metadata": {
        "id": "vP5fxJxt54x5"
      },
      "source": [
        "## Espacio de color HSV"
      ]
    },
    {
      "cell_type": "markdown",
      "metadata": {
        "id": "4UVW1azJJ4vk"
      },
      "source": [
        "Ahora utilizaremos el espacio de color HSV para seleccionar los pixeles de la imagen que tienen un color específico. Primero convertimos la imagen a HSV y calculamos cuál es el color HSV que queremos seleccionar."
      ]
    },
    {
      "cell_type": "code",
      "execution_count": null,
      "metadata": {
        "id": "5EOxSQ3mHlfG"
      },
      "outputs": [],
      "source": [
        "# Convertimos la imagen de RGB a HSV\n",
        "imgHSV = cv2.cvtColor(img, cv2.COLOR_RGB2HSV)\n",
        "\n"
      ]
    },
    {
      "cell_type": "code",
      "execution_count": null,
      "metadata": {
        "id": "swAL--G7Dq9Y"
      },
      "outputs": [],
      "source": [
        "# Creamos una paleta de colores HSV\n",
        "paleta = np.zeros((180, 50, 3), np.uint8)\n",
        "\n",
        "for i in range(0, 180):\n",
        "  for j in range(0, 50):\n",
        "    paleta[i,j,0] = i # H ...\n",
        "    paleta[i,j,1] = 255 # S\n",
        "    paleta[i,j,2] = 255 # V\n",
        "\n",
        "paletaRGB = cv2.cvtColor(paleta, cv2.COLOR_HSV2RGB)\n",
        "\n",
        "fig = px.imshow(paletaRGB)\n",
        "fig.show()"
      ]
    },
    {
      "cell_type": "code",
      "execution_count": null,
      "metadata": {
        "id": "uJVgldxx4tYP"
      },
      "outputs": [],
      "source": [
        "# Paleta para un color HSV\n",
        "paleta = np.zeros((255,255,3), np.uint8)\n",
        "\n",
        "for i in range(255):\n",
        "  for j in range(255):\n",
        "    paleta[i,j,0] = 30 # ...\n",
        "    paleta[i,j,1] = i\n",
        "    paleta[i,j,2] = j    \n",
        "\n",
        "paletaRGB = cv2.cvtColor(paleta, cv2.COLOR_HSV2RGB)\n",
        "\n",
        "fig = px.imshow(paletaRGB)\n",
        "fig.show()"
      ]
    },
    {
      "cell_type": "code",
      "execution_count": null,
      "metadata": {
        "id": "muLW1Zr8KDjL"
      },
      "outputs": [],
      "source": [
        "# Creamos un pixel de color y lo convertimos a HSV\n",
        "amarillo = np.uint8([[[255, 255, 0]]])\n",
        "\n",
        "amarilloHSV = cv2.cvtColor(amarillo, cv2.COLOR_RGB2HSV)\n",
        "print(amarilloHSV)"
      ]
    },
    {
      "cell_type": "markdown",
      "metadata": {
        "id": "BsC6Dl8WbIOL"
      },
      "source": [
        "Como vemos, hemos seleccionado el color amarilo (en RGB) y lo hemos convertido a HSV. Recuerda que el primer componente es la cromaticidad (30), el segundo componente es la saturación (255) y el tercer componente es la luminosidad (255).\n",
        "\n",
        "Si nosotros queremos seleccionar el color amarillo en la imagen, necesitamos definir el mínimo y máximo amarillo en HSV. Esto es fácil solo basta con variar primero el Hue y definir los valores correctos de saturación para permitir amarillos más claros o oscuros."
      ]
    },
    {
      "cell_type": "code",
      "execution_count": null,
      "metadata": {
        "id": "sgZQI6E_aCgW"
      },
      "outputs": [],
      "source": [
        "# imgHSV = cv2.cvtColor(img, cv2.COLOR_RGB2HSV)\n",
        "lower_amarillo = np.array([20, 50, 50])\n",
        "upper_amarillo = np.array([40, 255, 255])\n",
        "\n",
        "# Buscamos todos los pixeles que estan entre el minimo y maximo amarillo\n",
        "mask = cv2.inRange(imgHSV, lower_amarillo, upper_amarillo)\n",
        "\n",
        "# Obtenemos solo los pixeles que tienen las propiedades definidas\n",
        "res = cv2.bitwise_and(img, img, mask = mask)\n",
        "\n",
        "# Mostramos las imágenes\n",
        "fig = px.imshow(mask, color_continuous_scale='gray')\n",
        "fig.show()\n",
        "\n",
        "fig = px.imshow(res)\n",
        "fig.show()"
      ]
    },
    {
      "cell_type": "markdown",
      "metadata": {
        "id": "bT6eOOJoa3oB"
      },
      "source": [
        "## Ejercicio 1\n",
        "\n",
        "En análisis de imágenes médicas, las imágenes de células sanguíneas en tejidos del estómago revelan la presencia de leucocitos atrofiados. Esta presencia indica una alta probabilidad de padecer de cáncer. Las células atrofiadas presentan un color azulado profundo que se diferencia del resto de células de la imagen. Utilizar análisis de espacio de colores para segmentar las células atrofiadas."
      ]
    },
    {
      "cell_type": "code",
      "execution_count": null,
      "metadata": {
        "id": "aVgvpDET78k0"
      },
      "outputs": [],
      "source": [
        "!wget https://github.com/diplomado-ia-pucp/dava/raw/main/pathology_cll20x01.jpg\n",
        "!wget https://github.com/diplomado-ia-pucp/dava/raw/main/pathology_cll40x03.jpg"
      ]
    },
    {
      "cell_type": "code",
      "execution_count": null,
      "metadata": {
        "colab": {
          "background_save": true
        },
        "id": "7M-2sq_naTrk"
      },
      "outputs": [],
      "source": [
        "img1 = cv2.imread('pathology_cll20x01.jpg')\n",
        "img2 = cv2.imread('pathology_cll40x03.jpg')\n",
        "\n",
        "img1 = cv2.cvtColor(img1, cv2.COLOR_BGR2RGB)\n",
        "img2 = cv2.cvtColor(img2, cv2.COLOR_BGR2RGB)\n",
        "\n",
        "fig = px.imshow(img1)\n",
        "fig.show()\n",
        "\n",
        "fig = px.imshow(img2)\n",
        "fig.show()"
      ]
    }
  ],
  "metadata": {
    "colab": {
      "collapsed_sections": [],
      "name": "DAVA_Espacios_de_color.ipynb",
      "provenance": [],
      "include_colab_link": true
    },
    "kernelspec": {
      "display_name": "Python 3",
      "name": "python3"
    }
  },
  "nbformat": 4,
  "nbformat_minor": 0
}